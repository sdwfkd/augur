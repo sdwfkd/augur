{
 "cells": [
  {
   "cell_type": "markdown",
   "metadata": {},
   "source": [
    "## Connect to your database"
   ]
  },
  {
   "cell_type": "code",
   "execution_count": 148,
   "metadata": {},
   "outputs": [],
   "source": [
    "import psycopg2\n",
    "import pandas as pd \n",
    "import sqlalchemy as salc\n",
    "import numpy as np\n",
    "import seaborn as sns\n",
    "import matplotlib as mpl\n",
    "import matplotlib.pyplot as plt\n",
    "from matplotlib.colors import hsv_to_rgb\n",
    "from matplotlib.colors import rgb_to_hsv\n",
    "from matplotlib.colors import to_rgb\n",
    "import pylab as pl\n",
    "import warnings\n",
    "import datetime\n",
    "import json\n",
    "warnings.filterwarnings('ignore')\n",
    "\n",
    "with open(\"config.json\") as config_file:\n",
    "    config = json.load(config_file)\n",
    "\n",
    "database_connection_string = 'postgres+psycopg2://{}:{}@{}:{}/{}'.format(config['user'], config['password'], config['host'], config['port'], config['database'])\n",
    "\n",
    "dbschema='augur_data'\n",
    "engine = salc.create_engine(\n",
    "    database_connection_string,\n",
    "    connect_args={'options': '-csearch_path={}'.format(dbschema)})"
   ]
  },
  {
   "cell_type": "markdown",
   "metadata": {},
   "source": [
    "##### This section of the code uses credentials to a database stored in an external json file to connect to the database with said credentials in order for us to be able to run any sql queries. We will use the data from the sql queries to show using a heatmap how often a color is used in pull requests. A heatmap is a data visualization technique that shows magnitude of a phenomenon, in this case the amount of times a color is used, as color in two dimensions. It may sound confusing to use colors to describe colors, but the heat map allows us to show the intensity of color usage similar to intensity of heat when using thermal vision."
   ]
  },
  {
   "cell_type": "markdown",
   "metadata": {},
   "source": [
    "## Retrieving Available Data and Making It Useful for Later"
   ]
  },
  {
   "cell_type": "code",
   "execution_count": 153,
   "metadata": {},
   "outputs": [
    {
     "data": {
      "text/html": [
       "<div>\n",
       "<style scoped>\n",
       "    .dataframe tbody tr th:only-of-type {\n",
       "        vertical-align: middle;\n",
       "    }\n",
       "\n",
       "    .dataframe tbody tr th {\n",
       "        vertical-align: top;\n",
       "    }\n",
       "\n",
       "    .dataframe thead th {\n",
       "        text-align: right;\n",
       "    }\n",
       "</style>\n",
       "<table border=\"1\" class=\"dataframe\">\n",
       "  <thead>\n",
       "    <tr style=\"text-align: right;\">\n",
       "      <th></th>\n",
       "      <th>pr_src_color</th>\n",
       "      <th>repo_color_count</th>\n",
       "    </tr>\n",
       "  </thead>\n",
       "  <tbody>\n",
       "    <tr>\n",
       "      <th>0</th>\n",
       "      <td>21ef3d</td>\n",
       "      <td>16</td>\n",
       "    </tr>\n",
       "    <tr>\n",
       "      <th>1</th>\n",
       "      <td>84b6eb</td>\n",
       "      <td>11</td>\n",
       "    </tr>\n",
       "    <tr>\n",
       "      <th>2</th>\n",
       "      <td>D22BF9</td>\n",
       "      <td>9</td>\n",
       "    </tr>\n",
       "    <tr>\n",
       "      <th>3</th>\n",
       "      <td>0366d6</td>\n",
       "      <td>8</td>\n",
       "    </tr>\n",
       "    <tr>\n",
       "      <th>4</th>\n",
       "      <td>e6e6e6</td>\n",
       "      <td>6</td>\n",
       "    </tr>\n",
       "    <tr>\n",
       "      <th>...</th>\n",
       "      <td>...</td>\n",
       "      <td>...</td>\n",
       "    </tr>\n",
       "    <tr>\n",
       "      <th>57</th>\n",
       "      <td>5546db</td>\n",
       "      <td>1</td>\n",
       "    </tr>\n",
       "    <tr>\n",
       "      <th>58</th>\n",
       "      <td>56a8ff</td>\n",
       "      <td>1</td>\n",
       "    </tr>\n",
       "    <tr>\n",
       "      <th>59</th>\n",
       "      <td>58bc0b</td>\n",
       "      <td>1</td>\n",
       "    </tr>\n",
       "    <tr>\n",
       "      <th>60</th>\n",
       "      <td>6f31ea</td>\n",
       "      <td>1</td>\n",
       "    </tr>\n",
       "    <tr>\n",
       "      <th>61</th>\n",
       "      <td>7cdb67</td>\n",
       "      <td>1</td>\n",
       "    </tr>\n",
       "  </tbody>\n",
       "</table>\n",
       "<p>62 rows × 2 columns</p>\n",
       "</div>"
      ],
      "text/plain": [
       "   pr_src_color  repo_color_count\n",
       "0        21ef3d                16\n",
       "1        84b6eb                11\n",
       "2        D22BF9                 9\n",
       "3        0366d6                 8\n",
       "4        e6e6e6                 6\n",
       "..          ...               ...\n",
       "57       5546db                 1\n",
       "58       56a8ff                 1\n",
       "59       58bc0b                 1\n",
       "60       6f31ea                 1\n",
       "61       7cdb67                 1\n",
       "\n",
       "[62 rows x 2 columns]"
      ]
     },
     "metadata": {},
     "output_type": "display_data"
    }
   ],
   "source": [
    "repolist = pd.DataFrame()\n",
    "\n",
    "repo_query1 = salc.sql.text(f\"\"\"c\n",
    "                SELECT\n",
    "                    repo_id,\n",
    "                    pull_request_labels.pr_src_color,\n",
    "                    COUNT ( * ) AS repo_color_count\n",
    "                FROM\n",
    "                    pull_requests,\n",
    "                    pull_request_labels\n",
    "                WHERE\n",
    "                    pull_requests.pull_request_id = pull_request_labels.pull_request_id --pull_requests.pr_created_at,\n",
    "                GROUP BY\n",
    "                    repo_id,\n",
    "                    pull_request_labels.pr_src_color\n",
    "                    order by repo_color_count desc;\n",
    "                    \"\"\")\n",
    "\n",
    "repo_query2 = salc.sql.text(f\"\"\"\n",
    "                SELECT\n",
    "                    pull_request_labels.pr_src_color,\n",
    "                    COUNT ( * ) AS repo_color_count\n",
    "                FROM\n",
    "                    pull_requests,\n",
    "                    pull_request_labels\n",
    "                WHERE\n",
    "                    pull_requests.pull_request_id = pull_request_labels.pull_request_id --pull_requests.pr_created_at,\n",
    "                GROUP BY\n",
    "                    pull_request_labels.pr_src_color\n",
    "                order by repo_color_count desc;\n",
    "                \"\"\")\n",
    "\n",
    "repolist = pd.read_sql(repo_query2, con=engine)\n",
    "\n",
    "display(repolist)\n",
    "\n",
    "color_list, color_count = [],[]\n",
    "for index, row in repolist.iterrows():\n",
    "    #print(row['pr_src_color'], \" \", row['repo_color_count'])\n",
    "    temp = '#' + row['pr_src_color']\n",
    "    temp = rgb_to_hsv(to_rgb(temp))\n",
    "    color_list.append(temp)\n",
    "    color_count.append(row['repo_color_count'])"
   ]
  },
  {
   "cell_type": "markdown",
   "metadata": {},
   "source": [
    "##### The table above is the result of the sql query repo_query2. Half of the query gets the list of strings called pr_src_color, which individually is 3 consecutive hexidecimal numbers that correspond to the color someone used when submitting a pull request. The list of string has no repeats because the other half of the query is how often each corresponding color was used. In the code, after showing the list of query results, we store the color strings as useful hex rgb strings and the count of their uses in lists to be used later."
   ]
  },
  {
   "cell_type": "markdown",
   "metadata": {},
   "source": [
    "## Plotting the Color Spectrum for Reference for the Heatmap"
   ]
  },
  {
   "cell_type": "code",
   "execution_count": 146,
   "metadata": {},
   "outputs": [
    {
     "data": {
      "image/png": "[encoded data removed]",
      "text/plain": [
       "<Figure size 432x288 with 1 Axes>"
      ]
     },
     "metadata": {
      "needs_background": "light"
     },
     "output_type": "display_data"
    }
   ],
   "source": [
    "V, H = np.mgrid[0:1:100j, 0:1:100j]\n",
    "S = np.ones_like(V)\n",
    "HSV = np.dstack((H,S,V))\n",
    "RGB = hsv_to_rgb(HSV)\n",
    "pl.imshow(RGB, origin=\"lower\", extent=[0,360,0,1], aspect=250)\n",
    "pl.xlabel(\"H\")\n",
    "pl.ylabel(\"V\")\n",
    "pl.title(\"$S_{HSV}=1$\")\n",
    "pl.show()"
   ]
  },
  {
   "cell_type": "markdown",
   "metadata": {},
   "source": [
    "## Plotting a Heatmap with Corresponding Color Usage"
   ]
  },
  {
   "cell_type": "code",
   "execution_count": 152,
   "metadata": {},
   "outputs": [
    {
     "data": {
      "image/png": "[encoded data removed]",
      "text/plain": [
       "<Figure size 432x288 with 1 Axes>"
      ]
     },
     "metadata": {
      "needs_background": "light"
     },
     "output_type": "display_data"
    }
   ],
   "source": [
    "#Needs to be changed or updated. The color spectrum can also be changed or updated if an easier heat map gets found.\n",
    "RGB = hsv_to_rgb(color_list)\n",
    "pl.imshow(color_list, origin=\"lower\", extent=[0,360,0,1], aspect=250)\n",
    "pl.xlabel(\"H\")\n",
    "pl.ylabel(\"V\")\n",
    "pl.title(\"$S_{HSV}=1$\")\n",
    "pl.show()"
   ]
  },
  {
   "cell_type": "code",
   "execution_count": null,
   "metadata": {},
   "outputs": [],
   "source": []
  }
 ],
 "metadata": {
  "kernelspec": {
   "display_name": "Python 3",
   "language": "python",
   "name": "python3"
  },
  "language_info": {
   "codemirror_mode": {
    "name": "ipython",
    "version": 3
   },
   "file_extension": ".py",
   "mimetype": "text/x-python",
   "name": "python",
   "nbconvert_exporter": "python",
   "pygments_lexer": "ipython3",
   "version": "3.7.6"
  }
 },
 "nbformat": 4,
 "nbformat_minor": 4
}
