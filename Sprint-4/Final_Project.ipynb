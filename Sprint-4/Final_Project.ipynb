{
 "cells": [
  {
   "cell_type": "markdown",
   "metadata": {},
   "source": [
    "## Connect to your database"
   ]
  },
  {
   "cell_type": "code",
   "execution_count": 4,
   "metadata": {},
   "outputs": [],
   "source": [
    "import psycopg2\n",
    "import pandas as pd \n",
    "import sqlalchemy as salc\n",
    "import numpy as np\n",
    "import seaborn as sns\n",
    "import matplotlib.pyplot as plt\n",
    "import warnings\n",
    "import datetime\n",
    "import json\n",
    "warnings.filterwarnings('ignore')\n",
    "\n",
    "with open(\"config.json\") as config_file:\n",
    "    config = json.load(config_file)\n",
    "\n",
    "database_connection_string = 'postgres+psycopg2://{}:{}@{}:{}/{}'.format(config['user'], config['password'], config['host'], config['port'], config['database'])\n",
    "\n",
    "dbschema='augur_data'\n",
    "engine = salc.create_engine(\n",
    "    database_connection_string,\n",
    "    connect_args={'options': '-csearch_path={}'.format(dbschema)})"
   ]
  },
  {
   "cell_type": "markdown",
   "metadata": {},
   "source": [
    "## Testing Retrieve Available Repositories"
   ]
  },
  {
   "cell_type": "code",
   "execution_count": 5,
   "metadata": {},
   "outputs": [
    {
     "data": {
      "text/html": [
       "<div>\n",
       "<style scoped>\n",
       "    .dataframe tbody tr th:only-of-type {\n",
       "        vertical-align: middle;\n",
       "    }\n",
       "\n",
       "    .dataframe tbody tr th {\n",
       "        vertical-align: top;\n",
       "    }\n",
       "\n",
       "    .dataframe thead th {\n",
       "        text-align: right;\n",
       "    }\n",
       "</style>\n",
       "<table border=\"1\" class=\"dataframe\">\n",
       "  <thead>\n",
       "    <tr style=\"text-align: right;\">\n",
       "      <th></th>\n",
       "      <th>pr_src_color</th>\n",
       "      <th>repo_color_count</th>\n",
       "    </tr>\n",
       "  </thead>\n",
       "  <tbody>\n",
       "    <tr>\n",
       "      <th>0</th>\n",
       "      <td>21ef3d</td>\n",
       "      <td>16</td>\n",
       "    </tr>\n",
       "    <tr>\n",
       "      <th>1</th>\n",
       "      <td>84b6eb</td>\n",
       "      <td>11</td>\n",
       "    </tr>\n",
       "    <tr>\n",
       "      <th>2</th>\n",
       "      <td>D22BF9</td>\n",
       "      <td>9</td>\n",
       "    </tr>\n",
       "    <tr>\n",
       "      <th>3</th>\n",
       "      <td>0366d6</td>\n",
       "      <td>8</td>\n",
       "    </tr>\n",
       "    <tr>\n",
       "      <th>4</th>\n",
       "      <td>e6e6e6</td>\n",
       "      <td>6</td>\n",
       "    </tr>\n",
       "    <tr>\n",
       "      <th>...</th>\n",
       "      <td>...</td>\n",
       "      <td>...</td>\n",
       "    </tr>\n",
       "    <tr>\n",
       "      <th>57</th>\n",
       "      <td>5546db</td>\n",
       "      <td>1</td>\n",
       "    </tr>\n",
       "    <tr>\n",
       "      <th>58</th>\n",
       "      <td>56a8ff</td>\n",
       "      <td>1</td>\n",
       "    </tr>\n",
       "    <tr>\n",
       "      <th>59</th>\n",
       "      <td>58bc0b</td>\n",
       "      <td>1</td>\n",
       "    </tr>\n",
       "    <tr>\n",
       "      <th>60</th>\n",
       "      <td>6f31ea</td>\n",
       "      <td>1</td>\n",
       "    </tr>\n",
       "    <tr>\n",
       "      <th>61</th>\n",
       "      <td>7cdb67</td>\n",
       "      <td>1</td>\n",
       "    </tr>\n",
       "  </tbody>\n",
       "</table>\n",
       "<p>62 rows × 2 columns</p>\n",
       "</div>"
      ],
      "text/plain": [
       "   pr_src_color  repo_color_count\n",
       "0        21ef3d                16\n",
       "1        84b6eb                11\n",
       "2        D22BF9                 9\n",
       "3        0366d6                 8\n",
       "4        e6e6e6                 6\n",
       "..          ...               ...\n",
       "57       5546db                 1\n",
       "58       56a8ff                 1\n",
       "59       58bc0b                 1\n",
       "60       6f31ea                 1\n",
       "61       7cdb67                 1\n",
       "\n",
       "[62 rows x 2 columns]"
      ]
     },
     "metadata": {},
     "output_type": "display_data"
    },
    {
     "data": {
      "text/plain": [
       "pr_src_color        object\n",
       "repo_color_count     int64\n",
       "dtype: object"
      ]
     },
     "execution_count": 5,
     "metadata": {},
     "output_type": "execute_result"
    }
   ],
   "source": [
    "\n",
    "repolist = pd.DataFrame()\n",
    "\n",
    "repo_query1 = salc.sql.text(f\"\"\"c\n",
    "                SELECT\n",
    "                    repo_id,\n",
    "                    pull_request_labels.pr_src_color,\n",
    "                    COUNT ( * ) AS repo_color_count\n",
    "                FROM\n",
    "                    pull_requests,\n",
    "                    pull_request_labels\n",
    "                WHERE\n",
    "                    pull_requests.pull_request_id = pull_request_labels.pull_request_id --pull_requests.pr_created_at,\n",
    "                GROUP BY\n",
    "                    repo_id,\n",
    "                    pull_request_labels.pr_src_color\n",
    "                    order by repo_color_count desc;\n",
    "                    \"\"\")\n",
    "\n",
    "repo_query2 = salc.sql.text(f\"\"\"\n",
    "                SELECT\n",
    "                    pull_request_labels.pr_src_color,\n",
    "                    COUNT ( * ) AS repo_color_count\n",
    "                FROM\n",
    "                    pull_requests,\n",
    "                    pull_request_labels\n",
    "                WHERE\n",
    "                    pull_requests.pull_request_id = pull_request_labels.pull_request_id --pull_requests.pr_created_at,\n",
    "                GROUP BY\n",
    "                    pull_request_labels.pr_src_color\n",
    "                order by repo_color_count desc;\n",
    "                \"\"\")\n",
    "\n",
    "repolist = pd.read_sql(repo_query2, con=engine)\n",
    "\n",
    "display(repolist)\n",
    "\n",
    "repolist.dtypes-------------------"
   ]
  },
  {
   "cell_type": "code",
   "execution_count": null,
   "metadata": {},
   "outputs": [],
   "source": []
  }
 ],
 "metadata": {
  "kernelspec": {
   "display_name": "Python 3",
   "language": "python",
   "name": "python3"
  },
  "language_info": {
   "codemirror_mode": {
    "name": "ipython",
    "version": 3
   },
   "file_extension": ".py",
   "mimetype": "text/x-python",
   "name": "python",
   "nbconvert_exporter": "python",
   "pygments_lexer": "ipython3",
   "version": "3.7.6"
  }
 },
 "nbformat": 4,
 "nbformat_minor": 4
}
